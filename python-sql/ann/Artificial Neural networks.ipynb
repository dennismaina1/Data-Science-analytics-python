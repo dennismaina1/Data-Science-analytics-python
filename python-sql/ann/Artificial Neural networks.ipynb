{
 "cells": [
  {
   "cell_type": "code",
   "execution_count": 3,
   "id": "01ddc763",
   "metadata": {},
   "outputs": [],
   "source": [
    "import pandas as pd\n",
    "import seaborn as sns\n",
    "import plotly.express as px\n",
    "import matplotlib.pyplot as plt\n",
    "from sklearn.model_selection import train_test_split"
   ]
  },
  {
   "cell_type": "markdown",
   "id": "0b65b577",
   "metadata": {},
   "source": [
    "7. Attribute Information:\n",
    "\n",
    "   1. Wife's age                     (numerical)\n",
    "   2. Wife's education               (categorical)      1=low, 2, 3, 4=high\n",
    "   3. Husband's education            (categorical)      1=low, 2, 3, 4=high\n",
    "   4. Number of children ever born   (numerical)\n",
    "   5. Wife's religion                (binary)           0=Non-Islam, 1=Islam\n",
    "   6. Wife's now working?            (binary)           0=Yes, 1=No\n",
    "   7. Husband's occupation           (categorical)      1, 2, 3, 4\n",
    "   8. Standard-of-living index       (categorical)      1=low, 2, 3, 4=high\n",
    "   9. Media exposure                 (binary)           0=Good, 1=Not good\n",
    "   10. Contraceptive method used     (class attribute)  1=No-use \n",
    "                                                        2=Long-term\n",
    "                                                        3=Short-term\n"
   ]
  },
  {
   "cell_type": "code",
   "execution_count": 4,
   "id": "94c4ecf4",
   "metadata": {},
   "outputs": [
    {
     "data": {
      "text/html": [
       "<div>\n",
       "<style scoped>\n",
       "    .dataframe tbody tr th:only-of-type {\n",
       "        vertical-align: middle;\n",
       "    }\n",
       "\n",
       "    .dataframe tbody tr th {\n",
       "        vertical-align: top;\n",
       "    }\n",
       "\n",
       "    .dataframe thead th {\n",
       "        text-align: right;\n",
       "    }\n",
       "</style>\n",
       "<table border=\"1\" class=\"dataframe\">\n",
       "  <thead>\n",
       "    <tr style=\"text-align: right;\">\n",
       "      <th></th>\n",
       "      <th>Wife age</th>\n",
       "      <th>Wife education</th>\n",
       "      <th>Husband education</th>\n",
       "      <th>No Children</th>\n",
       "      <th>wife religion</th>\n",
       "      <th>Wife working</th>\n",
       "      <th>husband ocupation</th>\n",
       "      <th>living standard</th>\n",
       "      <th>media exposure</th>\n",
       "      <th>Contraceptive method</th>\n",
       "    </tr>\n",
       "  </thead>\n",
       "  <tbody>\n",
       "    <tr>\n",
       "      <th>0</th>\n",
       "      <td>24</td>\n",
       "      <td>2</td>\n",
       "      <td>3</td>\n",
       "      <td>3</td>\n",
       "      <td>1</td>\n",
       "      <td>1</td>\n",
       "      <td>2</td>\n",
       "      <td>3</td>\n",
       "      <td>0</td>\n",
       "      <td>1</td>\n",
       "    </tr>\n",
       "    <tr>\n",
       "      <th>1</th>\n",
       "      <td>45</td>\n",
       "      <td>1</td>\n",
       "      <td>3</td>\n",
       "      <td>10</td>\n",
       "      <td>1</td>\n",
       "      <td>1</td>\n",
       "      <td>3</td>\n",
       "      <td>4</td>\n",
       "      <td>0</td>\n",
       "      <td>1</td>\n",
       "    </tr>\n",
       "    <tr>\n",
       "      <th>2</th>\n",
       "      <td>43</td>\n",
       "      <td>2</td>\n",
       "      <td>3</td>\n",
       "      <td>7</td>\n",
       "      <td>1</td>\n",
       "      <td>1</td>\n",
       "      <td>3</td>\n",
       "      <td>4</td>\n",
       "      <td>0</td>\n",
       "      <td>1</td>\n",
       "    </tr>\n",
       "    <tr>\n",
       "      <th>3</th>\n",
       "      <td>42</td>\n",
       "      <td>3</td>\n",
       "      <td>2</td>\n",
       "      <td>9</td>\n",
       "      <td>1</td>\n",
       "      <td>1</td>\n",
       "      <td>3</td>\n",
       "      <td>3</td>\n",
       "      <td>0</td>\n",
       "      <td>1</td>\n",
       "    </tr>\n",
       "    <tr>\n",
       "      <th>4</th>\n",
       "      <td>36</td>\n",
       "      <td>3</td>\n",
       "      <td>3</td>\n",
       "      <td>8</td>\n",
       "      <td>1</td>\n",
       "      <td>1</td>\n",
       "      <td>3</td>\n",
       "      <td>2</td>\n",
       "      <td>0</td>\n",
       "      <td>1</td>\n",
       "    </tr>\n",
       "    <tr>\n",
       "      <th>...</th>\n",
       "      <td>...</td>\n",
       "      <td>...</td>\n",
       "      <td>...</td>\n",
       "      <td>...</td>\n",
       "      <td>...</td>\n",
       "      <td>...</td>\n",
       "      <td>...</td>\n",
       "      <td>...</td>\n",
       "      <td>...</td>\n",
       "      <td>...</td>\n",
       "    </tr>\n",
       "    <tr>\n",
       "      <th>1468</th>\n",
       "      <td>33</td>\n",
       "      <td>4</td>\n",
       "      <td>4</td>\n",
       "      <td>2</td>\n",
       "      <td>1</td>\n",
       "      <td>0</td>\n",
       "      <td>2</td>\n",
       "      <td>4</td>\n",
       "      <td>0</td>\n",
       "      <td>3</td>\n",
       "    </tr>\n",
       "    <tr>\n",
       "      <th>1469</th>\n",
       "      <td>33</td>\n",
       "      <td>4</td>\n",
       "      <td>4</td>\n",
       "      <td>3</td>\n",
       "      <td>1</td>\n",
       "      <td>1</td>\n",
       "      <td>1</td>\n",
       "      <td>4</td>\n",
       "      <td>0</td>\n",
       "      <td>3</td>\n",
       "    </tr>\n",
       "    <tr>\n",
       "      <th>1470</th>\n",
       "      <td>39</td>\n",
       "      <td>3</td>\n",
       "      <td>3</td>\n",
       "      <td>8</td>\n",
       "      <td>1</td>\n",
       "      <td>0</td>\n",
       "      <td>1</td>\n",
       "      <td>4</td>\n",
       "      <td>0</td>\n",
       "      <td>3</td>\n",
       "    </tr>\n",
       "    <tr>\n",
       "      <th>1471</th>\n",
       "      <td>33</td>\n",
       "      <td>3</td>\n",
       "      <td>3</td>\n",
       "      <td>4</td>\n",
       "      <td>1</td>\n",
       "      <td>0</td>\n",
       "      <td>2</td>\n",
       "      <td>2</td>\n",
       "      <td>0</td>\n",
       "      <td>3</td>\n",
       "    </tr>\n",
       "    <tr>\n",
       "      <th>1472</th>\n",
       "      <td>17</td>\n",
       "      <td>3</td>\n",
       "      <td>3</td>\n",
       "      <td>1</td>\n",
       "      <td>1</td>\n",
       "      <td>1</td>\n",
       "      <td>2</td>\n",
       "      <td>4</td>\n",
       "      <td>0</td>\n",
       "      <td>3</td>\n",
       "    </tr>\n",
       "  </tbody>\n",
       "</table>\n",
       "<p>1473 rows × 10 columns</p>\n",
       "</div>"
      ],
      "text/plain": [
       "      Wife age  Wife education  Husband education  No Children  wife religion  \\\n",
       "0           24               2                  3            3              1   \n",
       "1           45               1                  3           10              1   \n",
       "2           43               2                  3            7              1   \n",
       "3           42               3                  2            9              1   \n",
       "4           36               3                  3            8              1   \n",
       "...        ...             ...                ...          ...            ...   \n",
       "1468        33               4                  4            2              1   \n",
       "1469        33               4                  4            3              1   \n",
       "1470        39               3                  3            8              1   \n",
       "1471        33               3                  3            4              1   \n",
       "1472        17               3                  3            1              1   \n",
       "\n",
       "      Wife working  husband ocupation  living standard  media exposure  \\\n",
       "0                1                  2                3               0   \n",
       "1                1                  3                4               0   \n",
       "2                1                  3                4               0   \n",
       "3                1                  3                3               0   \n",
       "4                1                  3                2               0   \n",
       "...            ...                ...              ...             ...   \n",
       "1468             0                  2                4               0   \n",
       "1469             1                  1                4               0   \n",
       "1470             0                  1                4               0   \n",
       "1471             0                  2                2               0   \n",
       "1472             1                  2                4               0   \n",
       "\n",
       "      Contraceptive method  \n",
       "0                        1  \n",
       "1                        1  \n",
       "2                        1  \n",
       "3                        1  \n",
       "4                        1  \n",
       "...                    ...  \n",
       "1468                     3  \n",
       "1469                     3  \n",
       "1470                     3  \n",
       "1471                     3  \n",
       "1472                     3  \n",
       "\n",
       "[1473 rows x 10 columns]"
      ]
     },
     "execution_count": 4,
     "metadata": {},
     "output_type": "execute_result"
    }
   ],
   "source": [
    "contraceptive= pd.read_csv(\"./cmc.csv\")\n",
    "contraceptive"
   ]
  },
  {
   "cell_type": "code",
   "execution_count": 5,
   "id": "263b7ee3",
   "metadata": {},
   "outputs": [
    {
     "name": "stdout",
     "output_type": "stream",
     "text": [
      "<class 'pandas.core.frame.DataFrame'>\n",
      "RangeIndex: 1473 entries, 0 to 1472\n",
      "Data columns (total 10 columns):\n",
      " #   Column                Non-Null Count  Dtype\n",
      "---  ------                --------------  -----\n",
      " 0   Wife age              1473 non-null   int64\n",
      " 1   Wife education        1473 non-null   int64\n",
      " 2   Husband education     1473 non-null   int64\n",
      " 3   No Children           1473 non-null   int64\n",
      " 4   wife religion         1473 non-null   int64\n",
      " 5   Wife working          1473 non-null   int64\n",
      " 6   husband ocupation     1473 non-null   int64\n",
      " 7   living standard       1473 non-null   int64\n",
      " 8   media exposure        1473 non-null   int64\n",
      " 9   Contraceptive method  1473 non-null   int64\n",
      "dtypes: int64(10)\n",
      "memory usage: 115.2 KB\n"
     ]
    }
   ],
   "source": [
    "contraceptive.info()"
   ]
  },
  {
   "cell_type": "code",
   "execution_count": 6,
   "id": "01d4586d",
   "metadata": {},
   "outputs": [
    {
     "data": {
      "text/plain": [
       "<seaborn.axisgrid.FacetGrid at 0x1c918a06c70>"
      ]
     },
     "execution_count": 6,
     "metadata": {},
     "output_type": "execute_result"
    },
    {
     "data": {
      "image/png": "[encoded data removed]",
      "text/plain": [
       "<Figure size 500x500 with 1 Axes>"
      ]
     },
     "metadata": {},
     "output_type": "display_data"
    }
   ],
   "source": [
    "sns.displot(contraceptive['Husband education'])"
   ]
  },
  {
   "cell_type": "code",
   "execution_count": 7,
   "id": "cc4ec279",
   "metadata": {},
   "outputs": [
    {
     "data": {
      "text/plain": [
       "<AxesSubplot:xlabel='No Children', ylabel='Husband education'>"
      ]
     },
     "execution_count": 7,
     "metadata": {},
     "output_type": "execute_result"
    },
    {
     "data": {
      "image/png": "[encoded data removed]",
      "text/plain": [
       "<Figure size 640x480 with 2 Axes>"
      ]
     },
     "metadata": {},
     "output_type": "display_data"
    }
   ],
   "source": [
    "#compare Husband education to number of children\n",
    "sns.heatmap(pd.crosstab(contraceptive['Husband education'],contraceptive['No Children']),annot=True,linewidth=.1,fmt=\".0f\")"
   ]
  },
  {
   "cell_type": "code",
   "execution_count": 8,
   "id": "c99446f8",
   "metadata": {
    "scrolled": false
   },
   "outputs": [
    {
     "data": {
      "text/plain": [
       "<AxesSubplot:xlabel='No Children', ylabel='Wife education'>"
      ]
     },
     "execution_count": 8,
     "metadata": {},
     "output_type": "execute_result"
    },
    {
     "data": {
      "image/png": "[encoded data removed]",
      "text/plain": [
       "<Figure size 640x480 with 2 Axes>"
      ]
     },
     "metadata": {},
     "output_type": "display_data"
    }
   ],
   "source": [
    "#compare wifes education to number of children\n",
    "sns.heatmap(pd.crosstab(contraceptive['Wife education'],contraceptive['No Children']),annot=True,linewidth=.1,fmt=\".0f\")"
   ]
  },
  {
   "cell_type": "code",
   "execution_count": 10,
   "id": "1dacecba",
   "metadata": {
    "scrolled": false
   },
   "outputs": [
    {
     "data": {
      "image/png": "[encoded data removed]",
      "text/plain": [
       "<Figure size 640x480 with 1 Axes>"
      ]
     },
     "metadata": {},
     "output_type": "display_data"
    }
   ],
   "source": [
    "#compare wifes religion to contraception\n",
    "\n",
    "# 5. Wife's religion                (binary)           0=Non-Islam, 1=Islam\n",
    "#10. Contraceptive method used     (class attribute)  1=No-use  2=Long-term  3=Short-term\n",
    "\n",
    "ct=pd.crosstab(contraceptive['wife religion'],contraceptive['Contraceptive method'])\n",
    "ax=ct.plot(kind=\"bar\")\n",
    "ax.legend(title=\"Wifes religion against contraception method\",loc=\"upper left\",bbox_to_anchor=(1, 1.02))\n",
    "for c in ax.containers:\n",
    "    \n",
    "    # set the bar label\n",
    "    ax.bar_label(c)"
   ]
  },
  {
   "cell_type": "code",
   "execution_count": 11,
   "id": "91e7c1a8",
   "metadata": {},
   "outputs": [],
   "source": [
    "y=contraceptive['Contraceptive method']\n",
    "x=contraceptive.drop(labels=['Contraceptive method'],axis=1)"
   ]
  },
  {
   "cell_type": "code",
   "execution_count": 12,
   "id": "34124021",
   "metadata": {},
   "outputs": [],
   "source": [
    "#splitting data\n",
    "#stratify - introduced in classification during cross validation will create a balance of data i.e balance number of values of 1s or 0s\n",
    "from sklearn.preprocessing import StandardScaler\n",
    "x_train,x_test,y_train,y_test=train_test_split(x,y,test_size=0.2,random_state=0,stratify=y )\n",
    "scaler=StandardScaler()\n",
    "x_train=scaler.fit_transform(x_train)\n",
    "x_test=scaler.fit_transform(x_test)\n"
   ]
  },
  {
   "cell_type": "code",
   "execution_count": 13,
   "id": "dac5f04a",
   "metadata": {},
   "outputs": [
    {
     "data": {
      "text/plain": [
       "(1178, 9)"
      ]
     },
     "execution_count": 13,
     "metadata": {},
     "output_type": "execute_result"
    }
   ],
   "source": [
    "x_train.shape"
   ]
  },
  {
   "cell_type": "code",
   "execution_count": 14,
   "id": "af2a5328",
   "metadata": {},
   "outputs": [],
   "source": [
    "import tensorflow as tf\n",
    "from tensorflow import keras\n",
    "\n",
    "from keras import Sequential, Model #research on model for custom built neural networks\n",
    "from keras.layers import  Dense,Input"
   ]
  },
  {
   "cell_type": "code",
   "execution_count": 15,
   "id": "d72bbb40",
   "metadata": {},
   "outputs": [],
   "source": [
    "#neural networks have input layer and output layer\n",
    "#input layer takes in features, output layer provides prediction\n",
    "#each neuron in input layer takes features independent of the other. TheANN in this case will have 9 input neurons\n",
    "#output layer has no of neurons equal to target i.e method of contraception\n",
    "#in regression output layer has one neuron\n",
    "#regresssion -\n",
    "#binary class -sigmoid function, dense =1\n",
    "#multiclass - softmax function, dense=\n",
    "#regression - linear fuction, dense=1"
   ]
  },
  {
   "cell_type": "code",
   "execution_count": 16,
   "id": "0e3a0d7a",
   "metadata": {},
   "outputs": [
    {
     "data": {
      "text/plain": [
       "9"
      ]
     },
     "execution_count": 16,
     "metadata": {},
     "output_type": "execute_result"
    }
   ],
   "source": [
    "#input layer number of neurons\n",
    "x_train.shape[1]"
   ]
  },
  {
   "cell_type": "code",
   "execution_count": 28,
   "id": "3ddf17ce",
   "metadata": {},
   "outputs": [],
   "source": [
    "#when working with keras we use Dense function to interconnect nurons in successiding layers to all neurons in the previous layer\n",
    "#relu function enables learning and foward propergation of data\n",
    "#sequential method used for deep feed foward neural networks\n",
    "model=Sequential()\n",
    "\n",
    "model.add(Input(x.shape[1]))#input Layer\n",
    "model.add(Dense(20,activation='relu'))#Dense has 2 parameters: number of neurons and activation function\n",
    "model.add(Dense(20,activation='relu'))\n",
    "model.add(Dense(20,activation='relu'))\n",
    "model.add(Dense(20,activation='relu'))#hidden layers\n",
    "model.add(Dense(20,activation='relu'))\n",
    "model.add(Dense(20,activation='relu'))\n",
    "model.add(Dense(20,activation='relu'))\n",
    "model.add(Dense(20,activation='relu'))\n",
    "model.add(Dense(20,activation='relu'))\n",
    "model.add(Dense(20,activation='relu'))\n",
    "model.add(Dense(20,activation='relu'))\n",
    "model.add(Dense(4, activation='softmax'))#output layer \n",
    "\n",
    "#model compiler does back propergation. It takes values of y and y predict. to estimate level of error in model called loss\n",
    "# loss function calculates error- binary crossentropy, sparse categorical cross entropy\n",
    "#accuracy function gives accuracy(accuracy, recall, f1 score) for classification model and optimizer for regression\n",
    "#This formula then tunes to reduce this loss through a process called epochs(i.e foward feeding and back propergation 10 times)\n",
    "opt=tf.keras.optimizers.Adam(learning_rate=0.001)\n",
    "model.compile(optimizer=opt,loss='sparse_categorical_crossentropy', metrics=['sparse_categorical_accuracy'])"
   ]
  },
  {
   "cell_type": "code",
   "execution_count": 41,
   "id": "75f5b2a0",
   "metadata": {
    "scrolled": false
   },
   "outputs": [
    {
     "name": "stdout",
     "output_type": "stream",
     "text": [
      "Epoch 1/20\n",
      "118/118 [==============================] - 1s 5ms/step - loss: 0.8140 - sparse_categorical_accuracy: 0.6163 - val_loss: 0.9494 - val_sparse_categorical_accuracy: 0.5288\n",
      "Epoch 2/20\n",
      "118/118 [==============================] - 1s 4ms/step - loss: 0.8143 - sparse_categorical_accuracy: 0.6163 - val_loss: 0.9509 - val_sparse_categorical_accuracy: 0.5254\n",
      "Epoch 3/20\n",
      "118/118 [==============================] - 0s 4ms/step - loss: 0.8129 - sparse_categorical_accuracy: 0.6061 - val_loss: 0.9509 - val_sparse_categorical_accuracy: 0.5458\n",
      "Epoch 4/20\n",
      "118/118 [==============================] - 0s 4ms/step - loss: 0.8110 - sparse_categorical_accuracy: 0.6171 - val_loss: 0.9545 - val_sparse_categorical_accuracy: 0.5186\n",
      "Epoch 5/20\n",
      "118/118 [==============================] - 0s 4ms/step - loss: 0.8082 - sparse_categorical_accuracy: 0.6154 - val_loss: 0.9531 - val_sparse_categorical_accuracy: 0.5322\n",
      "Epoch 6/20\n",
      "118/118 [==============================] - 0s 4ms/step - loss: 0.8081 - sparse_categorical_accuracy: 0.6188 - val_loss: 0.9554 - val_sparse_categorical_accuracy: 0.5322\n",
      "Epoch 7/20\n",
      "118/118 [==============================] - 0s 4ms/step - loss: 0.8054 - sparse_categorical_accuracy: 0.6188 - val_loss: 0.9578 - val_sparse_categorical_accuracy: 0.5356\n",
      "Epoch 8/20\n",
      "118/118 [==============================] - 1s 4ms/step - loss: 0.8036 - sparse_categorical_accuracy: 0.6214 - val_loss: 0.9587 - val_sparse_categorical_accuracy: 0.5458\n",
      "Epoch 9/20\n",
      "118/118 [==============================] - 0s 4ms/step - loss: 0.8049 - sparse_categorical_accuracy: 0.6205 - val_loss: 0.9586 - val_sparse_categorical_accuracy: 0.5254\n",
      "Epoch 10/20\n",
      "118/118 [==============================] - 1s 5ms/step - loss: 0.8021 - sparse_categorical_accuracy: 0.6222 - val_loss: 0.9597 - val_sparse_categorical_accuracy: 0.5254\n",
      "Epoch 11/20\n",
      "118/118 [==============================] - 1s 5ms/step - loss: 0.8002 - sparse_categorical_accuracy: 0.6214 - val_loss: 0.9606 - val_sparse_categorical_accuracy: 0.5390\n",
      "Epoch 12/20\n",
      "118/118 [==============================] - 1s 4ms/step - loss: 0.7983 - sparse_categorical_accuracy: 0.6231 - val_loss: 0.9654 - val_sparse_categorical_accuracy: 0.5356\n",
      "Epoch 13/20\n",
      "118/118 [==============================] - 1s 5ms/step - loss: 0.7991 - sparse_categorical_accuracy: 0.6282 - val_loss: 0.9630 - val_sparse_categorical_accuracy: 0.5356\n",
      "Epoch 14/20\n",
      "118/118 [==============================] - 0s 4ms/step - loss: 0.7907 - sparse_categorical_accuracy: 0.6316 - val_loss: 0.9858 - val_sparse_categorical_accuracy: 0.5492\n",
      "Epoch 15/20\n",
      "118/118 [==============================] - 1s 4ms/step - loss: 0.7987 - sparse_categorical_accuracy: 0.6239 - val_loss: 0.9676 - val_sparse_categorical_accuracy: 0.5356\n",
      "Epoch 16/20\n",
      "118/118 [==============================] - 0s 4ms/step - loss: 0.7956 - sparse_categorical_accuracy: 0.6392 - val_loss: 0.9692 - val_sparse_categorical_accuracy: 0.5288\n",
      "Epoch 17/20\n",
      "118/118 [==============================] - 1s 5ms/step - loss: 0.7940 - sparse_categorical_accuracy: 0.6265 - val_loss: 0.9679 - val_sparse_categorical_accuracy: 0.5322\n",
      "Epoch 18/20\n",
      "118/118 [==============================] - 1s 4ms/step - loss: 0.7914 - sparse_categorical_accuracy: 0.6282 - val_loss: 0.9686 - val_sparse_categorical_accuracy: 0.5322\n",
      "Epoch 19/20\n",
      "118/118 [==============================] - 0s 4ms/step - loss: 0.7877 - sparse_categorical_accuracy: 0.6316 - val_loss: 0.9765 - val_sparse_categorical_accuracy: 0.5254\n",
      "Epoch 20/20\n",
      "118/118 [==============================] - 0s 4ms/step - loss: 0.7908 - sparse_categorical_accuracy: 0.6392 - val_loss: 0.9734 - val_sparse_categorical_accuracy: 0.5424\n",
      "CPU times: total: 14.5 s\n",
      "Wall time: 20.7 s\n"
     ]
    },
    {
     "data": {
      "text/plain": [
       "<keras.callbacks.History at 0x1c93abf2250>"
      ]
     },
     "execution_count": 41,
     "metadata": {},
     "output_type": "execute_result"
    }
   ],
   "source": [
    "%%time\n",
    "#fitting the model\n",
    "#provide train data(x and y)\n",
    "#epochs specify how many times to learn from data foward feeding and back propergation\n",
    "#verbose specifys display of training data and metrics\n",
    "#batch size specify number of times to split data to learn from in batches\n",
    "#validation_split this is used to split a section of data to validate results of model\n",
    "#validation_data- used in place of validation split does same work as validation_split- use tuple\n",
    "model.fit(x_train,y_train,batch_size=10,epochs=20,verbose=1,validation_data=(x_test,y_test),callbacks=[callbacks])"
   ]
  },
  {
   "cell_type": "code",
   "execution_count": 39,
   "id": "be08331f",
   "metadata": {},
   "outputs": [],
   "source": [
    "#model with callback\n",
    "#callback indicates when model trains and gets to lowest error(define the error). stop trainingat at that point\n",
    "class MyCallback(tf.keras.callbacks.Callback):\n",
    "    def on_epoch_end (self,epoch, logs=()):\n",
    "        if (logs.get('val_sparse_categorical_accuracy')==0.5):\n",
    "            self.model.stop_training=True"
   ]
  },
  {
   "cell_type": "code",
   "execution_count": 19,
   "id": "0cd57305",
   "metadata": {},
   "outputs": [],
   "source": [
    "#assign function to variable\n",
    "callbacks=MyCallback()"
   ]
  },
  {
   "cell_type": "code",
   "execution_count": 134,
   "id": "800fe9e2",
   "metadata": {},
   "outputs": [
    {
     "name": "stdout",
     "output_type": "stream",
     "text": [
      "10/10 [==============================] - 0s 2ms/step - loss: 0.9915 - sparse_categorical_accuracy: 0.5356\n"
     ]
    },
    {
     "data": {
      "text/plain": [
       "[0.9914681911468506, 0.5355932116508484]"
      ]
     },
     "execution_count": 134,
     "metadata": {},
     "output_type": "execute_result"
    }
   ],
   "source": [
    "#evaluate model performance\n",
    "model.evaluate(x_test,y_test)"
   ]
  },
  {
   "cell_type": "code",
   "execution_count": 152,
   "id": "d2e9cc0d",
   "metadata": {},
   "outputs": [
    {
     "data": {
      "text/html": [
       "<style>#sk-container-id-1 {color: black;background-color: white;}#sk-container-id-1 pre{padding: 0;}#sk-container-id-1 div.sk-toggleable {background-color: white;}#sk-container-id-1 label.sk-toggleable__label {cursor: pointer;display: block;width: 100%;margin-bottom: 0;padding: 0.3em;box-sizing: border-box;text-align: center;}#sk-container-id-1 label.sk-toggleable__label-arrow:before {content: \"▸\";float: left;margin-right: 0.25em;color: #696969;}#sk-container-id-1 label.sk-toggleable__label-arrow:hover:before {color: black;}#sk-container-id-1 div.sk-estimator:hover label.sk-toggleable__label-arrow:before {color: black;}#sk-container-id-1 div.sk-toggleable__content {max-height: 0;max-width: 0;overflow: hidden;text-align: left;background-color: #f0f8ff;}#sk-container-id-1 div.sk-toggleable__content pre {margin: 0.2em;color: black;border-radius: 0.25em;background-color: #f0f8ff;}#sk-container-id-1 input.sk-toggleable__control:checked~div.sk-toggleable__content {max-height: 200px;max-width: 100%;overflow: auto;}#sk-container-id-1 input.sk-toggleable__control:checked~label.sk-toggleable__label-arrow:before {content: \"▾\";}#sk-container-id-1 div.sk-estimator input.sk-toggleable__control:checked~label.sk-toggleable__label {background-color: #d4ebff;}#sk-container-id-1 div.sk-label input.sk-toggleable__control:checked~label.sk-toggleable__label {background-color: #d4ebff;}#sk-container-id-1 input.sk-hidden--visually {border: 0;clip: rect(1px 1px 1px 1px);clip: rect(1px, 1px, 1px, 1px);height: 1px;margin: -1px;overflow: hidden;padding: 0;position: absolute;width: 1px;}#sk-container-id-1 div.sk-estimator {font-family: monospace;background-color: #f0f8ff;border: 1px dotted black;border-radius: 0.25em;box-sizing: border-box;margin-bottom: 0.5em;}#sk-container-id-1 div.sk-estimator:hover {background-color: #d4ebff;}#sk-container-id-1 div.sk-parallel-item::after {content: \"\";width: 100%;border-bottom: 1px solid gray;flex-grow: 1;}#sk-container-id-1 div.sk-label:hover label.sk-toggleable__label {background-color: #d4ebff;}#sk-container-id-1 div.sk-serial::before {content: \"\";position: absolute;border-left: 1px solid gray;box-sizing: border-box;top: 0;bottom: 0;left: 50%;z-index: 0;}#sk-container-id-1 div.sk-serial {display: flex;flex-direction: column;align-items: center;background-color: white;padding-right: 0.2em;padding-left: 0.2em;position: relative;}#sk-container-id-1 div.sk-item {position: relative;z-index: 1;}#sk-container-id-1 div.sk-parallel {display: flex;align-items: stretch;justify-content: center;background-color: white;position: relative;}#sk-container-id-1 div.sk-item::before, #sk-container-id-1 div.sk-parallel-item::before {content: \"\";position: absolute;border-left: 1px solid gray;box-sizing: border-box;top: 0;bottom: 0;left: 50%;z-index: -1;}#sk-container-id-1 div.sk-parallel-item {display: flex;flex-direction: column;z-index: 1;position: relative;background-color: white;}#sk-container-id-1 div.sk-parallel-item:first-child::after {align-self: flex-end;width: 50%;}#sk-container-id-1 div.sk-parallel-item:last-child::after {align-self: flex-start;width: 50%;}#sk-container-id-1 div.sk-parallel-item:only-child::after {width: 0;}#sk-container-id-1 div.sk-dashed-wrapped {border: 1px dashed gray;margin: 0 0.4em 0.5em 0.4em;box-sizing: border-box;padding-bottom: 0.4em;background-color: white;}#sk-container-id-1 div.sk-label label {font-family: monospace;font-weight: bold;display: inline-block;line-height: 1.2em;}#sk-container-id-1 div.sk-label-container {text-align: center;}#sk-container-id-1 div.sk-container {/* jupyter's `normalize.less` sets `[hidden] { display: none; }` but bootstrap.min.css set `[hidden] { display: none !important; }` so we also need the `!important` here to be able to override the default hidden behavior on the sphinx rendered scikit-learn.org. See: https://github.com/scikit-learn/scikit-learn/issues/21755 */display: inline-block !important;position: relative;}#sk-container-id-1 div.sk-text-repr-fallback {display: none;}</style><div id=\"sk-container-id-1\" class=\"sk-top-container\"><div class=\"sk-text-repr-fallback\"><pre>RandomForestClassifier()</pre><b>In a Jupyter environment, please rerun this cell to show the HTML representation or trust the notebook. <br />On GitHub, the HTML representation is unable to render, please try loading this page with nbviewer.org.</b></div><div class=\"sk-container\" hidden><div class=\"sk-item\"><div class=\"sk-estimator sk-toggleable\"><input class=\"sk-toggleable__control sk-hidden--visually\" id=\"sk-estimator-id-1\" type=\"checkbox\" checked><label for=\"sk-estimator-id-1\" class=\"sk-toggleable__label sk-toggleable__label-arrow\">RandomForestClassifier</label><div class=\"sk-toggleable__content\"><pre>RandomForestClassifier()</pre></div></div></div></div></div>"
      ],
      "text/plain": [
       "RandomForestClassifier()"
      ]
     },
     "execution_count": 152,
     "metadata": {},
     "output_type": "execute_result"
    }
   ],
   "source": [
    "from sklearn.ensemble import RandomForestClassifier\n",
    "clf=RandomForestClassifier()\n",
    "clf.fit(x_train,y_train)\n"
   ]
  },
  {
   "cell_type": "code",
   "execution_count": 156,
   "id": "51e4941e",
   "metadata": {
    "scrolled": true
   },
   "outputs": [
    {
     "data": {
      "text/plain": [
       "0.5254237288135594"
      ]
     },
     "execution_count": 156,
     "metadata": {},
     "output_type": "execute_result"
    }
   ],
   "source": [
    "from sklearn.metrics import accuracy_score\n",
    "ypred=clf.predict(x_test)\n",
    "accuracy_score(y_test,ypred)\n"
   ]
  }
 ],
 "metadata": {
  "kernelspec": {
   "display_name": "Python 3 (ipykernel)",
   "language": "python",
   "name": "python3"
  },
  "language_info": {
   "codemirror_mode": {
    "name": "ipython",
    "version": 3
   },
   "file_extension": ".py",
   "mimetype": "text/x-python",
   "name": "python",
   "nbconvert_exporter": "python",
   "pygments_lexer": "ipython3",
   "version": "3.9.10"
  }
 },
 "nbformat": 4,
 "nbformat_minor": 5
}
